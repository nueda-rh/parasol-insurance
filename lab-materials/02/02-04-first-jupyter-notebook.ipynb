{
 "cells": [
  {
   "cell_type": "markdown",
   "id": "991808d0-7d79-47f2-b8cc-764fe86a6156",
   "metadata": {
    "tags": []
   },
   "source": [
    "# はじめてのJupyter Notebook\n",
    "\n",
    "注意: **すでにJupyter Notebookに慣れている場合**で、セルの編集や実行、その他のJupyterの機能の使い方を理解している場合は、このノートブックをスキップして次のものに進んでください。\n",
    "\n",
    "## Jupyter Notebookとは何ですか？\n",
    "\n",
    "これは[Jupyter](https://jupyter.org/) Notebookです。始めるために知っておくべきことはいくつかだけです。\n",
    "\n",
    "* Jupyterノートブックは、文章、実行可能なコード、またはインタラクティブなUI要素を含む「セル」で構成されています。このセルは文章セルです。\n",
    "\n",
    "* セルを編集して実行することができます。セルを編集するには、周囲に枠が表示されるまでダブルクリックします。セルを実行するには（編集しているかどうかに関係なく）、ファイルウィンドウの上部にある再生ボタンをクリックするか、セルを選択してからSHIFT+ENTERを押します。\n",
    "\n",
    "     <figure>\n",
    "        <img src=\"../../content/modules/ROOT/assets/images/02/02-04-play-button.png\"  alt='missing' width=\"300\"  >\n",
    "     <figure/>\n",
    "        \n",
    "    Jupyterはセル内のコードを実行し、コードの出力を記録して次のセルに進みます。\n",
    "\n",
    "* セルが実行中の場合、余白にアスタリスクが表示されます。例: `In: [*]`。セルの実行が完了すると、アスタリスクはシーケンス番号に置き換わります。\n",
    "\n",
    "それでは、試してみましょう！ 次のセルを実行してみてください。"
   ]
  },
  {
   "cell_type": "code",
   "execution_count": null,
   "id": "3b4dc1f1-8d6e-4869-ade8-cafc22baa817",
   "metadata": {},
   "outputs": [],
   "source": [
    "def print_some_text(entered_text):\n",
    "    print(\"入力されたテキストは次の通りです: \\n\" + entered_text)\n",
    "    \n",
    "my_text = \"このセルはコード用です。上の再生ボタンをクリックするかSHIFT+ENTERを押すことで、コードを実行できます。\"\n",
    "\n",
    "print_some_text(my_text)"
   ]
  },
  {
   "cell_type": "code",
   "execution_count": null,
   "id": "70c9ed5e-60e1-42dd-b9c3-87fcfc79493e",
   "metadata": {},
   "outputs": [],
   "source": [
    "new_text = \"次に、ナラティブテキストやドキュメントをどのように書くか見てみましょう。\"\n",
    "\n",
    "# 前のセルで定義された関数は利用可能です。\n",
    "print_some_text(new_text)"
   ]
  },
  {
   "cell_type": "markdown",
   "id": "92bc6513-dbe5-4128-9399-d4d3ab9be845",
   "metadata": {},
   "source": [
    "## これはマークダウンセルです\n",
    "### 第1章\n",
    "テキストを入力する際には**マークダウン形式**を使用できます。\n",
    "\n",
    "セルを編集するには**ダブルクリック**してください。\n",
    "\n",
    "[マークダウンの参照](https://www.markdownguide.org/basic-syntax/)"
   ]
  },
  {
   "cell_type": "markdown",
   "id": "edaf739c-ff87-457b-914e-5d74428fa8ed",
   "metadata": {},
   "source": [
    "## 詳細情報\n",
    "\n",
    "Jupyterについての詳細は、Jupyterウィンドウのメニューバーにある**ヘルプメニュー**をクリックしてください。\n",
    "\n",
    "<figure>\n",
    "    <img src=\"../../content/modules/ROOT/assets/images/02/02-04-help-menu.png\"  alt='missing' width=\"300\"  >\n",
    "<figure/>"
   ]
  }
 ],
 "metadata": {
  "kernelspec": {
   "display_name": "Python 3.9",
   "language": "python",
   "name": "python3"
  },
  "language_info": {
   "codemirror_mode": {
    "name": "ipython",
    "version": 3
   },
   "file_extension": ".py",
   "mimetype": "text/x-python",
   "name": "python",
   "nbconvert_exporter": "python",
   "pygments_lexer": "ipython3",
   "version": "3.9.16"
  }
 },
 "nbformat": 4,
 "nbformat_minor": 5
}
