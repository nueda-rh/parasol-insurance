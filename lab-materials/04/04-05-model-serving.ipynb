{
    "cells": [
     {
      "cell_type": "markdown",
      "id": "e4f4dada-51a8-4f06-9618-0f2deda72bee",
      "metadata": {
       "tags": []
      },
      "source": [
       "# モデルの提供\n",
       "\n",
       "ノートブック '04-04-accident-recognition' では、再訓練されたモデルを使用して、画像内の'重度'または'中度'の車両事故を予測できました。  \n",
       "\n",
       "これから、作成したモデルサーバーからモデルに直接クエリを送信できるかどうかを確認します。 これはAPI呼び出しを通じて行います。\n",
       "\n",
       "**重要**：まず、モデルサーバーをデプロイした後に得た推論エンドポイントのURLを入力してください。"
      ]
     },
     {
      "cell_type": "code",
      "execution_count": null,
      "id": "e38338ba-d858-4096-92a1-284d35679005",
      "metadata": {
       "tags": []
      },
      "outputs": [],
      "source": [
       "# 通常、これが必要です\n",
       "# RestURL = 'http://modelmesh-serving.userX:8008' で、userXはあなたに割り当てられたユーザーに置き換えられます。\n",
       "# 以下の値を変更してください。さもなければ、何も動作しません！\n",
       "RestURL = 'http://modelmesh-serving.userX:8008'"
      ]
     },
     {
      "cell_type": "code",
      "execution_count": null,
      "id": "03c4c9cc-1e3a-43a4-92cf-44af26573030",
      "metadata": {
       "tags": []
      },
      "outputs": [],
      "source": [
       "# このラボ用に設計されたWorkbenchイメージを使用していない場合は、以下の行のコメントを外して実行することで、必要なパッケージをインストールできます。\n",
       "#!pip install --no-cache-dir --no-dependencies -r requirements.txt"
      ]
     },
     {
      "cell_type": "code",
      "execution_count": null,
      "id": "930247ab-2e10-4db4-888c-517ca3a4cec8",
      "metadata": {
       "tags": []
      },
      "outputs": [],
      "source": [
       "import cv2\n",
       "from matplotlib import pyplot as plt\n",
       "from PIL import Image\n",
       "## ノートブックを読みやすく保つために、多くのコードがremote_infer.pyファイルに移動されました。\n",
       "## 興味があれば、予測に必要なさまざまな関数を見るために開いてみてください。\n",
       "from remote_infer import process_image"
      ]
     },
     {
      "cell_type": "markdown",
      "id": "c5e84546-979c-4dc2-9fc7-21d997001beb",
      "metadata": {},
      "source": [
       "## 推論のURL、モデル名、クラスを含むYAMLファイルを定義します"
      ]
     },
     {
      "cell_type": "code",
      "execution_count": null,
      "id": "329ac64a-76a4-4630-8da3-0174fbdf54cd",
      "metadata": {
       "tags": []
      },
      "outputs": [],
      "source": [
       "infer_url = f'{RestURL}/v2/models/my-first-model/infer'"
      ]
     },
     {
      "cell_type": "markdown",
      "id": "e74d67e4-1933-4957-80fd-c4b143d14279",
      "metadata": {
       "tags": []
      },
      "source": [
       "## では、推論のパラメータを設定します"
      ]
     },
     {
      "cell_type": "code",
      "execution_count": null,
      "id": "31725659-710d-4fdc-b195-4d56b299f419",
      "metadata": {
       "tags": []
      },
      "outputs": [],
      "source": [
       "# 1. 分析したい画像\n",
       "image_path = 'images/carImage3.jpg' # これをアップロードする画像に置き換えることができます"
      ]
     },
     {
      "cell_type": "markdown",
      "id": "326d21db-0f7b-4f89-86bd-84f4c04b7c44",
      "metadata": {},
      "source": [
       "## 推論を実行し、結果を表示します"
      ]
     },
     {
      "cell_type": "code",
      "execution_count": null,
      "id": "c15e0ccd-5c65-4dc7-80bc-2e583223ac59",
      "metadata": {
       "tags": []
      },
      "outputs": [],
      "source": [
       "# リモートモデルサーバーを呼び出して推論を実行します\n",
       "img = process_image(image_path, infer_url)\n",
       "\n",
       "# 結果を表示します\n",
       "img = cv2.cvtColor(img, cv2.COLOR_BGR2RGB)\n",
       "fig = plt.gcf()\n",
       "fig.set_size_inches(6, 3)\n",
       "plt.axis('off')\n",
       "plt.imshow(img)"
      ]
     }
    ],
    "metadata": {
     "kernelspec": {
      "display_name": "Python 3.11",
      "language": "python",
      "name": "python3"
     },
     "language_info": {
      "codemirror_mode": {
       "name": "ipython",
       "version": 3
      },
      "file_extension": ".py",
      "mimetype": "text/x-python",
      "name": "python",
      "nbconvert_exporter": "python",
      "pygments_lexer": "ipython3",
      "version": "3.11.5"
     }
    },
    "nbformat": 4,
    "nbformat_minor": 5
   }
   