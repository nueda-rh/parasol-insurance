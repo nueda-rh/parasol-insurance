{
 "cells": [
  {
   "cell_type": "markdown",
   "id": "e4f4dada-51a8-4f06-9618-0f2deda72bee",
   "metadata": {
    "tags": []
   },
   "source": [
    "# モデルサービング\n",
    "\n",
    "ノートブック '04-04-accident-recognition' で、再トレーニングされたモデルを使用して画像内の「重大」または「中程度」の車の事故を予測することができました。\n",
    "\n",
    "今度は、作成したモデルサーバーから直接モデルをクエリできるかどうかを判断します。これはAPIコールを通じて行われます。\n",
    "\n",
    "**重要**: 最初に、モデルサーバーを展開した後に取得した推論エンドポイントのURLを入力してください。"
   ]
  },
  {
   "cell_type": "code",
   "execution_count": null,
   "id": "e38338ba-d858-4096-92a1-284d35679005",
   "metadata": {
    "tags": []
   },
   "outputs": [],
   "source": [
    "# RestURL = 'http://modelmesh-serving.userX:8008' で、userXはあなたに割り当てられたユーザーに置き換える必要があります。\n",
    "# 以下のXを自身のユーザー番号に変更してください。\n",
    "RestURL = 'http://modelmesh-serving.userX:8008'"
   ]
  },
  {
   "cell_type": "code",
   "execution_count": null,
   "id": "03c4c9cc-1e3a-43a4-92cf-44af26573030",
   "metadata": {
    "tags": []
   },
   "outputs": [],
   "source": [
    "# もしこのLabのために設計されたWorkbenchイメージを使用していない場合、必要なパッケージをインストールするために次の行のコメントを外して実行できます。\n",
    "#!pip install --no-cache-dir --no-dependencies -r requirements.txt"
   ]
  },
  {
   "cell_type": "code",
   "execution_count": null,
   "id": "930247ab-2e10-4db4-888c-517ca3a4cec8",
   "metadata": {
    "tags": []
   },
   "outputs": [],
   "source": [
    "import cv2\n",
    "from matplotlib import pyplot as plt\n",
    "from PIL import Image\n",
    "## 注意：ノートブックを読みやすく保つために、多くのコードがremote_infer.pyファイルに移動されました。\n",
    "## 興味がある場合は、そのファイルを開いてこの予測に必要なさまざまな関数を見てください。\n",
    "from remote_infer import process_image"
   ]
  },
  {
   "cell_type": "markdown",
   "id": "c5e84546-979c-4dc2-9fc7-21d997001beb",
   "metadata": {},
   "source": [
    "## 推論URL、モデル名、クラスを定義します。"
   ]
  },
  {
   "cell_type": "code",
   "execution_count": null,
   "id": "329ac64a-76a4-4630-8da3-0174fbdf54cd",
   "metadata": {
    "tags": []
   },
   "outputs": [],
   "source": [
    "infer_url = f'{RestURL}/v2/models/my-first-model/infer'"
   ]
  },
  {
   "cell_type": "markdown",
   "id": "e74d67e4-1933-4957-80fd-c4b143d14279",
   "metadata": {
    "tags": []
   },
   "source": [
    "## 推論のパラメータを設定します"
   ]
  },
  {
   "cell_type": "code",
   "execution_count": null,
   "id": "31725659-710d-4fdc-b195-4d56b299f419",
   "metadata": {
    "tags": []
   },
   "outputs": [],
   "source": [
    "# 分析したい画像\n",
    "image_path = 'images/carImage3.jpg' # これをアップロードした画像に置き換えることができます"
   ]
  },
  {
   "cell_type": "markdown",
   "id": "326d21db-0f7b-4f89-86bd-84f4c04b7c44",
   "metadata": {},
   "source": [
    "## 推論を実行し、結果を表示します"
   ]
  },
  {
   "cell_type": "code",
   "execution_count": null,
   "id": "c15e0ccd-5c65-4dc7-80bc-2e583223ac59",
   "metadata": {
    "tags": []
   },
   "outputs": [],
   "source": [
    "# リモートモデルサーバーを呼び出して推論を開始します\n",
    "img = process_image(image_path, infer_url)\n",
    "\n",
    "# 結果を表示します\n",
    "img = cv2.cvtColor(img, cv2.COLOR_BGR2RGB)\n",
    "fig = plt.gcf()\n",
    "fig.set_size_inches(6, 3)\n",
    "plt.axis('off')\n",
    "plt.imshow(img)"
   ]
  }
 ],
 "metadata": {
  "kernelspec": {
   "display_name": "Python 3.11",
   "language": "python",
   "name": "python3"
  },
  "language_info": {
   "codemirror_mode": {
    "name": "ipython",
    "version": 3
   },
   "file_extension": ".py",
   "mimetype": "text/x-python",
   "name": "python",
   "nbconvert_exporter": "python",
   "pygments_lexer": "ipython3",
   "version": "3.11.5"
  }
 },
 "nbformat": 4,
 "nbformat_minor": 5
}
