{
 "cells": [
  {
   "cell_type": "markdown",
   "id": "508be7fd-7c1d-46b1-945d-d0da8ed19c82",
   "metadata": {},
   "source": [
    "# 車の衝突検出アプローチの概要\n",
    "\n",
    "静止画像に表示される自動車事故を識別できるアプリケーションの開発を考えます。\n",
    "事故が検出された場合、クレームは適切な請求処理部門に転送されます。まずはYOLOモデルの使用方法を学ぶことから始めましょう。\n",
    "\n",
    "注意: YOLOは「You Only Look Once」の略です。\n",
    "\n",
    "このノートブックでは、事前に学習済みの機械学習モデル、YOLOv8mを使用し、静止画像での動作を探ります。まず、モデルが車を検出できるかどうかを確認します。その後、モデルを再学習して車の事故を検出できるようにします。\n",
    "\n",
    "まずは、YOLOモデルのためにultralyticsパッケージをインストールし、いくつかのPythonパッケージをインポートします。"
   ]
  },
  {
   "cell_type": "code",
   "execution_count": null,
   "id": "952e0a5e-e038-46bc-b7a2-16ca7ec64af5",
   "metadata": {
    "tags": []
   },
   "outputs": [],
   "source": [
    "# もしこのLabのために設計されたWorkbenchイメージを使用していない場合、必要なパッケージをインストールするために次の行のコメントを外して実行できます。\n",
    "# !pip install --no-cache-dir --no-dependencies -r requirements.txt\n",
    "\n",
    "import cv2\n",
    "from ultralytics import YOLO\n",
    "from PIL import Image"
   ]
  },
  {
   "cell_type": "code",
   "execution_count": null,
   "id": "ff63f26e-1a19-4409-ad99-d0abb45d74aa",
   "metadata": {
    "tags": []
   },
   "outputs": [],
   "source": [
    "# 物体検出にYOLOv8mモデルを利用します。\n",
    "model = YOLO('yolov8m.pt')"
   ]
  },
  {
   "cell_type": "code",
   "execution_count": null,
   "id": "568460ea-b6b2-48b6-87fb-2a7d2f8091e0",
   "metadata": {
    "tags": []
   },
   "outputs": [],
   "source": [
    "# テストする画像を表示します。\n",
    "Image.open(\"images/carImage0.jpg\")"
   ]
  },
  {
   "cell_type": "code",
   "execution_count": null,
   "id": "c4c129c0-e309-45e3-b094-ee4ee999dd7d",
   "metadata": {
    "tags": []
   },
   "outputs": [],
   "source": [
    "# YOLOモデルが与えられた写真で車のオブジェクトを識別できるかテストします。\n",
    "results = model.predict(\"images/carImage0.jpg\")"
   ]
  },
  {
   "cell_type": "markdown",
   "id": "86e1bd1b-123c-4fac-ab18-da40323cc97e",
   "metadata": {},
   "source": [
    "YOLO が提供された写真に「1 台の車」が存在すると判断したことがわかります。\n",
    "いくつかの写真をテストして、YOLO が車のオブジェクトを検出していることを確認しましょう。"
   ]
  },
  {
   "cell_type": "code",
   "execution_count": null,
   "id": "c00d4d9a-7b03-479a-9995-f0a0cddbf1e1",
   "metadata": {
    "tags": []
   },
   "outputs": [],
   "source": [
    "# <images>フォルダ内のすべての画像をリストします。その中からテスト用に1つの画像を選択できます。\n",
    "!ls -al images"
   ]
  },
  {
   "cell_type": "code",
   "execution_count": null,
   "id": "1c920270-62a0-41be-a8e3-0ccf57771fcc",
   "metadata": {
    "tags": []
   },
   "outputs": [],
   "source": [
    "# 車の画像、例えば <carImage4.jpg>を選択し、その画像が自動車を含んでいるかYOLOが判断できるか確認します。\n",
    "img = Image.open('images/carImage4.jpg')\n",
    "img_resized = img.resize((500, 300))\n",
    "display(img_resized)"
   ]
  },
  {
   "cell_type": "code",
   "execution_count": null,
   "id": "26771df8-1e76-4aee-893d-1200b9871fff",
   "metadata": {
    "tags": []
   },
   "outputs": [],
   "source": [
    "# 予測の結果を表示します\n",
    "results = model.predict(img)"
   ]
  },
  {
   "cell_type": "markdown",
   "id": "24a0c24c-9847-4ab0-a242-ca236fffda3e",
   "metadata": {},
   "source": [
    "<carImage4.jpg>の結果を見ると、yoloが17台の車と1台のトラックを検出したことがわかります。この結果は興味深いものです。複数の車両が含まれる画像でYOLOモデルが複数の「車」を識別できることが確認されました。\n",
    "\n",
    "ただし、画像に表示されている車両が多すぎるため、私たち「人間」にとってはすべての車両を正確に数えることが難しいかもしれません。\n",
    "\n",
    "そこで、次はYOLOモデルが画像内で識別した車両の周りに枠を描画するコードを書いてみます。"
   ]
  }
 ],
 "metadata": {
  "kernelspec": {
   "display_name": "Python 3.11",
   "language": "python",
   "name": "python3"
  },
  "language_info": {
   "codemirror_mode": {
    "name": "ipython",
    "version": 3
   },
   "file_extension": ".py",
   "mimetype": "text/x-python",
   "name": "python",
   "nbconvert_exporter": "python",
   "pygments_lexer": "ipython3",
   "version": "3.11.5"
  }
 },
 "nbformat": 4,
 "nbformat_minor": 5
}
