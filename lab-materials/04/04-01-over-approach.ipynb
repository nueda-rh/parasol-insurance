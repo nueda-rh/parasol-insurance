{
    "cells": [
     {
      "cell_type": "markdown",
      "id": "508be7fd-7c1d-46b1-945d-d0da8ed19c82",
      "metadata": {},
      "source": [
       "# 車の事故を検出するためのアプローチの概要\n",
       "\n",
       "私たちは、保険請求書に静止画像で車の事故が表示されているかを識別するアプリケーションを開発するよう依頼されました。事故が検出された場合、請求書は適切な請求処理部門に転送されます。まずは YOLO モデルの使用方法を学びましょう。\n",
       "\n",
       "注: YOLO は <I>'You Only Look Once'（一度見るだけ）</I> の略です。\n",
       "\n",
       "このノートブックでは、事前に学習された機械学習モデル YOLOv8m を使用し、静止画像でどのように機能するかを探ります。車を検出できるなら、そのモデルを再訓練して車の事故を検出できるようにします。\n",
       "\n",
       "まずは、YOLO モデル用の ultralytics パッケージをインストールし、いくつかの Python パッケージをインポートします:"
      ]
     },
     {
      "cell_type": "code",
      "execution_count": null,
      "id": "952e0a5e-e038-46bc-b7a2-16ca7ec64af5",
      "metadata": {
       "tags": []
      },
      "outputs": [],
      "source": [
       "# このラボに設計されたワークベンチイメージを使用しなかった場合は、次の行のコメントを解除して、必要なパッケージをインストールできます。\n",
       "# !pip install --no-cache-dir --no-dependencies -r requirements.txt\n",
       "\n",
       "import cv2\n",
       "from ultralytics import YOLO\n",
       "from PIL import Image"
      ]
     },
     {
      "cell_type": "code",
      "execution_count": null,
      "id": "ff63f26e-1a19-4409-ad99-d0abb45d74aa",
      "metadata": {
       "tags": []
      },
      "outputs": [],
      "source": [
       "# オブジェクト検出用に YOLOv8m モデルを使用します\n",
       "model = YOLO('yolov8m.pt')"
      ]
     },
     {
      "cell_type": "code",
      "execution_count": null,
      "id": "568460ea-b6b2-48b6-87fb-2a7d2f8091e0",
      "metadata": {
       "tags": []
      },
      "outputs": [],
      "source": [
       "# テストしたい画像を表示します\n",
       "Image.open(\"images/carImage0.jpg\")"
      ]
     },
     {
      "cell_type": "code",
      "execution_count": null,
      "id": "c4c129c0-e309-45e3-b094-ee4ee999dd7d",
      "metadata": {
       "tags": []
      },
      "outputs": [],
      "source": [
       "# YOLO モデルが与えられた写真に車のオブジェクトを識別できるかテストします\n",
       "results = model.predict(\"images/carImage0.jpg\")"
      ]
     },
     {
      "cell_type": "markdown",
      "id": "86e1bd1b-123c-4fac-ab18-da40323cc97e",
      "metadata": {},
      "source": [
       "YOLO が提供された写真に「1 台の車」が存在すると判断したことがわかります。これは良いニュースです。いくつかの写真をテストして、YOLO が車のオブジェクトを検出していることを確認できます。その後、YOLO が検出した車の周りにボックスを描くコードを書くことができます。"
      ]
     },
     {
      "cell_type": "code",
      "execution_count": null,
      "id": "c00d4d9a-7b03-479a-9995-f0a0cddbf1e1",
      "metadata": {
       "tags": []
      },
      "outputs": [],
      "source": [
       "# <images> フォルダ内のすべての画像をリストします。その中からテストに使用する画像を選択できます。\n",
       "!ls -al images"
      ]
     },
     {
      "cell_type": "code",
      "execution_count": null,
      "id": "1c920270-62a0-41be-a8e3-0ccf57771fcc",
      "metadata": {
       "tags": []
      },
      "outputs": [],
      "source": [
       "# 車の画像 (例: <carImage4.jpg>) を選択し、その画像に自動車が含まれているかどうかを yolo で判断します。\n",
       "img = Image.open('images/carImage4.jpg')\n",
       "img_resized = img.resize((500, 300))\n",
       "display(img_resized)"
      ]
     },
     {
      "cell_type": "code",
      "execution_count": null,
      "id": "26771df8-1e76-4aee-893d-1200b9871fff",
      "metadata": {
       "tags": []
      },
      "outputs": [],
      "source": [
       "# モデルの予測結果を取得します\n",
       "results = model.predict(img)"
      ]
     },
     {
      "cell_type": "markdown",
      "id": "24a0c24c-9847-4ab0-a242-ca236fffda3e",
      "metadata": {},
      "source": [
       "<carImage4.jpg> の結果を見てみると、yolo は 17 台の車と 1 台のトラックがあると判断しています。この結果は興味深いものです。複数の車両が含まれる画像で、yolo モデルが複数の「車」を識別できることを確認しました。\n",
       "\n",
       "しかし、画像に多くの車両が表示されているため、今度は「人間」がすべての車両を正確に数えるのが難しいかもしれません。\n",
       "\n",
       "そこで、yolo モデルが画像内で識別した車の周りにボックスを描くコードを書きましょう。\n",
       "\n",
       "**ノートブック `04-02-car-recog.ipynb` を開いてください。**"
      ]
     }
    ],
    "metadata": {
     "kernelspec": {
      "display_name": "Python 3.11",
      "language": "python",
      "name": "python3"
     },
     "language_info": {
      "codemirror_mode": {
       "name": "ipython",
       "version": 3
      },
      "file_extension": ".py",
      "mimetype": "text/x-python",
      "name": "python",
      "nbconvert_exporter": "python",
      "pygments_lexer": "ipython3",
      "version": "3.11.5"
     }
    },
    "nbformat": 4,
    "nbformat_minor": 5
   }
   