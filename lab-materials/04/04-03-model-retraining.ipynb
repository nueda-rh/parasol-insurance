{
 "cells": [
  {
   "cell_type": "markdown",
   "id": "f8cbdac0-3371-48af-aaa9-c40bbbcb62ff",
   "metadata": {},
   "source": [
    "# YOLOモデルの再トレーニング\n",
    "\n",
    "YOLOモデルを再トレーニングするには、中程度および重度の事故のラベルが付けられた車の画像の準備されたデータセットが必要です。私たちはそのようなデータセット（RoboFlowから取得）を持っており、すでに注釈付きの画像が含まれており、トレーニングセットと検証セットに分割されています。これらのトレーニング/検証セットを使用して現在のYOLOモデルを再トレーニングします。トレーニングに必要なデータ構造に関する情報:\n",
    "\n",
    "1. モデルに検出させたいオブジェクトのエンコードクラスは、0-`moderate`および1-`severe`です。\n",
    "2. データセットは自身のフォルダにあり、その中に2つのサブフォルダがあります： `train`と`valid`。各サブフォルダには`images`と`labels`という2つのサブフォルダがあります。\n",
    "3. 各画像には、`labels`サブフォルダ内に対応する注釈テキストファイルがあります。注釈テキストファイルの名前は画像ファイルと同じです。\n",
    "4. データセット記述子のYAMLファイル（data.yaml）がデータセットを指し示し、それらに含まれるオブジェクトクラスを記述します。このYAMLファイルはモデルの`train`メソッドに渡され、トレーニングプロセスを開始します。\n",
    "\n",
    "それでは始めましょう。"
   ]
  },
  {
   "cell_type": "code",
   "execution_count": null,
   "id": "602e0c59-42b1-4de4-9de2-d0875cf597c8",
   "metadata": {
    "tags": []
   },
   "outputs": [],
   "source": [
    "# もしこのLabのために設計されたWorkbenchイメージを使用していない場合、必要なパッケージをインストールするために次の行のコメントを外して実行できます。\n",
    "# !pip install --no-cache-dir --no-dependencies -r requirements.txt\n",
    "\n",
    "import os\n",
    "import requests\n",
    "import zipfile\n",
    "from tqdm.notebook import tqdm\n",
    "from ultralytics import YOLO"
   ]
  },
  {
   "cell_type": "markdown",
   "id": "cc755b4b-db03-4b43-9da9-80ed8298417b",
   "metadata": {},
   "source": [
    "次に、YOLOモデル 'yolo8m.pt' をロードしましょう。"
   ]
  },
  {
   "cell_type": "code",
   "execution_count": null,
   "id": "6e595eb2-0e11-4dce-9d5c-2a2025ddcd6d",
   "metadata": {
    "tags": []
   },
   "outputs": [],
   "source": [
    "# モデルをロードします。\n",
    "model = YOLO('yolov8m.pt')  # load a pretrained model (recommended for training)"
   ]
  },
  {
   "cell_type": "markdown",
   "id": "37d43616-2d25-419b-bd30-47a5aafb0d33",
   "metadata": {
    "tags": []
   },
   "source": [
    "## トレーニングデータを取得する\n",
    "\n",
    "以下の2つのトレーニングデータセットを提供しています。これらはzipファイルとして利用可能です：\n",
    "1) `accident-full.zip`   - モデルを完全に再トレーニングするために使用します。\n",
    "2) `accident-sample.zip` - モデルを部分的に再トレーニングするために使用します。時間がない場合に利用します。\n",
    "\n",
    "ワークショップ中はサンプルデータセットのみを使用します。"
   ]
  },
  {
   "cell_type": "code",
   "execution_count": null,
   "id": "2657ceae-db2d-4d65-ae1c-e807254ee71b",
   "metadata": {
    "tags": []
   },
   "outputs": [],
   "source": [
    "# 特定のデータセットを取得するための関数\n",
    "def retrieve_dataset(dataset_type):\n",
    "\n",
    "    # ディレクトリが存在するかどうかをチェックし、存在しない場合は作成します\n",
    "    if not os.path.exists(\"./datasets/\"):\n",
    "        os.makedirs(\"./datasets/\")\n",
    "\n",
    "    URL = f\"https://rhods-public.s3.amazonaws.com/sample-data/accident-data/accident-{dataset_type}.zip\"\n",
    "\n",
    "    # ファイルが存在するかどうかを確認し、存在しない場合はダウンロードして解凍します\n",
    "    if not os.path.exists(f\"./datasets/accident-{dataset_type}.zip\"):\n",
    "        print(\"Downloading file...\")\n",
    "        response = requests.get(URL, stream=True)\n",
    "        total_size = int(response.headers.get('content-length', 0))\n",
    "        block_size = 1024\n",
    "        t = tqdm(total=total_size, unit='iB', unit_scale=True)\n",
    "        with open(f'./datasets/accident-{dataset_type}.zip', 'wb') as f:\n",
    "            for data in response.iter_content(block_size):\n",
    "                t.update(len(data))\n",
    "                f.write(data)\n",
    "        t.close()\n",
    "    if os.path.exists(f\"./datasets/accident-{dataset_type}.zip\"):\n",
    "        print(\"Unzipping file...\")\n",
    "        with zipfile.ZipFile(f'./datasets/accident-{dataset_type}.zip', 'r') as zip_ref:\n",
    "            zip_ref.extractall(path='./datasets/')\n",
    "    print(\"Done!\")\n",
    "\n",
    "\n",
    "dataset_type = 'sample'\n",
    "# dataset_type = 'full' # フルデータセットを取得したい場合は、この行を使用してください\n",
    "retrieve_dataset(dataset_type)"
   ]
  },
  {
   "cell_type": "markdown",
   "id": "93e7d5b4-4c29-4eff-b1ba-a9dddf382173",
   "metadata": {
    "tags": []
   },
   "source": [
    "## YOLOモデルの再トレーニング\n",
    "\n",
    "まず、「エポック」が何であるかを理解するところから始めましょう。機械学習モデルは特定のデータセットをアルゴリズムに通じて訓練されます。完全なデータセットがアルゴリズムを通過するたびに、1つの **エポック** が完了したと言います。各 **エポック** はモデルのトレーニングをさらに精緻化します。\n",
    "\n",
    "以下のトレーニングコードでは、さまざまなパラメータを設定します:  \n",
    "**results = model.train(data='./datasets/accident-sample/data.yaml', epochs=1, imgsz=640, batch=2)**\n",
    "\n",
    "- epochs: プロセスをデモするために、1エポックしか使用しません。\n",
    "- imgsz: モデルに供給する画像のサイズです。\n",
    "- batch: アルゴリズムが同時に処理する画像の数です。結果を改善するにはより多くが望ましいですが、消費するメモリが増えます。ワークショップでリソースが制限されており、これがトレーニングの例であるため、意図的に低い値の2を設定します。\n",
    "\n",
    "トレーニング実行中に、各 **エポック** はトレーニングフェーズと検証フェーズの両方の要約を示します: 1行目と2行目はトレーニングフェーズの結果を、3行目と4行目は各エポックの検証フェーズの結果を示します。\n",
    "\n",
    "次のセルを実行して、モデルの再トレーニングを開始しましょう。"
   ]
  },
  {
   "cell_type": "code",
   "execution_count": null,
   "id": "22954895-0c26-4ae0-93c1-259efd18e47e",
   "metadata": {
    "tags": []
   },
   "outputs": [],
   "source": [
    "# モデルのトレーニング\n",
    "\n",
    "results = model.train(data='./datasets/accident-sample/data.yaml', epochs=1, imgsz=640, batch=2)"
   ]
  },
  {
   "cell_type": "markdown",
   "id": "45050c91-fb6c-4f14-a4d1-e72d3a40538f",
   "metadata": {},
   "source": [
    "**注意**: 標準的な再トレーニング後、結果に満足している場合、モデルをONNX形式でエクスポートすることができます。以下のコマンドで使用するトレーニングセッションに応じて、trainXを適切なトレーニングセッションに置き換えます。\n",
    "\n",
    "`ObjDetOXModel = YOLO(\"runs/detect/trainX/weights/best.pt\").export(format=\"onnx\")`"
   ]
  },
  {
   "cell_type": "markdown",
   "id": "cd0f7412-0b9b-46d1-b2f6-ded479b20cb7",
   "metadata": {},
   "source": [
    "## トレーニング結果の解釈\n",
    "\n",
    "**フルデータセット**に対するトレーニングのプロセスと結果の詳細な説明は、Labの指示書で入手できます。\n",
    "\n",
    "モデルを再トレーニングしましたので、これを使用して車の事故が含まれる画像をテストしてみましょう。"
   ]
  }
 ],
 "metadata": {
  "kernelspec": {
   "display_name": "Python 3.11",
   "language": "python",
   "name": "python3"
  },
  "language_info": {
   "codemirror_mode": {
    "name": "ipython",
    "version": 3
   },
   "file_extension": ".py",
   "mimetype": "text/x-python",
   "name": "python",
   "nbconvert_exporter": "python",
   "pygments_lexer": "ipython3",
   "version": "3.11.5"
  }
 },
 "nbformat": 4,
 "nbformat_minor": 5
}
