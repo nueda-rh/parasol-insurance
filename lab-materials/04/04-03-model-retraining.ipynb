{
    "cells": [
     {
      "cell_type": "markdown",
      "id": "f8cbdac0-3371-48af-aaa9-c40bbbcb62ff",
      "metadata": {},
      "source": [
       "# YOLOモデルの再訓練\n",
       "\n",
       "YOLOモデルを再訓練するためには、中程度および重度の事故ラベルが付けられた車の画像の準備されたデータセットが必要です。このデータセット（RoboFlowから取得したもの）には、すでに注釈付きの画像が含まれており、トレーニングセットとバリデーションセットに分割されています。これらのトレーニング/バリデーションセットを使用して、現在のYOLOモデルを再訓練します。トレーニングに必要なデータ構造に関するいくつかの情報は以下の通りです：\n",
       "\n",
       "1. モデルに検出させたいオブジェクトのクラスは、0-`moderate`（中程度）および1-`severe`（重度）でエンコードされます。\n",
       "2. データセットは自身のフォルダーにあり、その中に`train`と`valid`の2つのサブフォルダーがあります。それぞれのサブフォルダーの中には、`images`（画像）と`labels`（ラベル）の2つのサブフォルダーがあります。\n",
       "3. 各画像には`labels`サブフォルダーに対応する注釈テキストファイルがあります。注釈テキストファイルは画像ファイルと同じ名前です。\n",
       "4. データセットの記述子YAMLファイル（data.yaml）がデータセットを指し示し、それらの中のオブジェクトクラスを説明します。このYAMLファイルは、モデルの`train`メソッドに渡され、トレーニングプロセスが開始されます。\n",
       "\n",
       "さあ、始めましょう！"
      ]
     },
     {
      "cell_type": "code",
      "execution_count": null,
      "id": "602e0c59-42b1-4de4-9de2-d0875cf597c8",
      "metadata": {
       "tags": []
      },
      "outputs": [],
      "source": [
       "# このラボ用に設計されたWorkbenchイメージを使用していない場合は、以下の行のコメントを外して実行することで、必要なパッケージをインストールできます。\n",
       "# !pip install --no-cache-dir --no-dependencies -r requirements.txt\n",
       "\n",
       "import os\n",
       "import requests\n",
       "import zipfile\n",
       "from tqdm.notebook import tqdm\n",
       "from ultralytics import YOLO"
      ]
     },
     {
      "cell_type": "markdown",
      "id": "cc755b4b-db03-4b43-9da9-80ed8298417b",
      "metadata": {},
      "source": [
       "次にYOLOモデル'yolo8m.pt'をロードします。"
      ]
     },
     {
      "cell_type": "code",
      "execution_count": null,
      "id": "6e595eb2-0e11-4dce-9d5c-2a2025ddcd6d",
      "metadata": {
       "tags": []
      },
      "outputs": [],
      "source": [
       "# モデルをロード\n",
       "model = YOLO('yolov8m.pt')  # プレトレーニングされたモデルをロード（トレーニングには推奨）"
      ]
     },
     {
      "cell_type": "markdown",
      "id": "37d43616-2d25-419b-bd30-47a5aafb0d33",
      "metadata": {
       "tags": []
      },
      "source": [
       "## トレーニングデータの取得\n",
       "\n",
       "以下の2つのトレーニングデータセットを提供しています。ZIPファイルとして利用可能です：  \n",
       "1) `accident-full.zip`   - モデルを完全に再訓練するために使用されます。\n",
       "2) `accident-sample.zip` - モデルを部分的に再訓練するために使用され、完全に再訓練する時間がない場合に使用されます。\n",
       "\n",
       "ワークショップでは、サンプルデータセットのみを使用します。"
      ]
     },
     {
      "cell_type": "code",
      "execution_count": null,
      "id": "2657ceae-db2d-4d65-ae1c-e807254ee71b",
      "metadata": {
       "tags": []
      },
      "outputs": [],
      "source": [
       "# 特定のデータセットを取得するための関数\n",
       "def retrieve_dataset(dataset_type):\n",
       "\n",
       "    # ディレクトリが存在するか確認し、存在しない場合は作成\n",
       "    if not os.path.exists(\"./datasets/\"):\n",
       "        os.makedirs(\"./datasets/\")\n",
       "\n",
       "    URL = f\"https://rhods-public.s3.amazonaws.com/sample-data/accident-data/accident-{dataset_type}.zip\"\n",
       "\n",
       "    # ファイルが存在するか確認し、存在しない場合はダウンロードして解凍\n",
       "    if not os.path.exists(f\"./datasets/accident-{dataset_type}.zip\"):\n",
       "        print(\"ファイルをダウンロード中...\")\n",
       "        response = requests.get(URL, stream=True)\n",
       "        total_size = int(response.headers.get('content-length', 0))\n",
       "        block_size = 1024\n",
       "        t = tqdm(total=total_size, unit='iB', unit_scale=True)\n",
       "        with open(f'./datasets/accident-{dataset_type}.zip', 'wb') as f:\n",
       "            for data in response.iter_content(block_size):\n",
       "                t.update(len(data))\n",
       "                f.write(data)\n",
       "        t.close()\n",
       "    if os.path.exists(f\"./datasets/accident-{dataset_type}.zip\"):\n",
       "        print(\"ファイルを解凍中...\")\n",
       "        with zipfile.ZipFile(f'./datasets/accident-{dataset_type}.zip', 'r') as zip_ref:\n",
       "            zip_ref.extractall(path='./datasets/')\n",
       "    print(\"完了！\")\n",
       "\n",
       "\n",
       "dataset_type = 'sample'\n",
       "# dataset_type = 'full' # フルデータセットを取得したい場合はこの行を代わりに使用\n",
       "retrieve_dataset(dataset_type)"
      ]
     },
     {
      "cell_type": "markdown",
      "id": "93e7d5b4-4c29-4eff-b1ba-a9dddf382173",
      "metadata": {
       "tags": []
      },
      "source": [
       "## YOLOモデルの再訓練\n",
       "\n",
       "'エポック'が何であるかを理解することから始めましょう。機械学習モデルは、特定のデータセットをアルゴリズムに通して訓練されます。フルデータセットがアルゴリズムを通過するたびに、それが**エポック**を完了したと見なされます。各**エポック**はモデルの訓練をさらに洗練します。\n",
       "\n",
       "以下のトレーニングコードでは、さまざまなパラメータを設定します：  \n",
       "**results = model.train(data='./datasets/accident-sample/data.yaml', epochs=1, imgsz=640, batch=2)**\n",
       "\n",
       "- epochs: プロセスをデモするために、1エポックのみを使用します。\n",
       "- imgsz: これはモデルが与えられる画像のサイズです。\n",
       "- batch: これはアルゴリズムが同時に処理する画像の数です。多いほど良い結果が得られますが、メモリを多く消費します。このワークショップではリソースが制約されており、これは単なるトレーニング例であるため、意図的に低い2に設定しています。\n",
       "\n",
       "トレーニングの実行中、各**エポック**はトレーニングとバリデーションフェーズの両方の要約を表示します：行1と2はトレーニングフェーズの結果を示し、行3と4は各エポックのバリデーションフェーズの結果を示します。  \n",
       "\n",
       "次のセルを実行してモデルの再訓練を開始しましょう！"
      ]
     },
     {
      "cell_type": "code",
      "execution_count": null,
      "id": "22954895-0c26-4ae0-93c1-259efd18e47e",
      "metadata": {
       "tags": []
      },
      "outputs": [],
      "source": [
       "# モデルを訓練\n",
       "\n",
       "results = model.train(data='./datasets/accident-sample/data.yaml', epochs=1, imgsz=640, batch=2)"
      ]
     },
     {
      "cell_type": "markdown",
      "id": "45050c91-fb6c-4f14-a4d1-e72d3a40538f",
      "metadata": {},
      "source": [
       "**注意**：標準的な再訓練の後、結果に満足していれば、モデルをONNX形式にエクスポートできます。\n",
       "(以下のコマンドで使用するトレーニングセッションをtrainXに置き換えてください)\n",
       "\n",
       "`ObjDetOXModel = YOLO(\"runs/detect/trainX/weights/best.pt\").export(format=\"onnx\")`"
      ]
     },
     {
      "cell_type": "markdown",
      "id": "cd0f7412-0b9b-46d1-b2f6-ded479b20cb7",
      "metadata": {},
      "source": [
       "## トレーニング結果の解釈\n",
       "\n",
       "フルデータセットに対するトレーニングプロセスと結果の完全な説明は、ラボの指示にあります。\n",
       "\n",
       "モデルを再訓練したので、車の事故画像に対してテストしてみましょう！\n",
       "\n",
       "**ノートブック`04-04-accident-recog.ipynb`を開いてください**。"
      ]
     }
    ],
    "metadata": {
     "kernelspec": {
      "display_name": "Python 3.11",
      "language": "python",
      "name": "python3"
     },
     "language_info": {
      "codemirror_mode": {
       "name": "ipython",
       "version": 3
      },
      "file_extension": ".py",
      "mimetype": "text/x-python",
      "name": "python",
      "nbconvert_exporter": "python",
      "pygments_lexer": "ipython3",
      "version": "3.11.5"
     }
    },
    "nbformat": 4,
    "nbformat_minor": 5
   }
   