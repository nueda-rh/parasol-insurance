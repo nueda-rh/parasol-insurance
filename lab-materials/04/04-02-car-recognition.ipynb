{
    "cells": [
     {
      "cell_type": "markdown",
      "id": "917ad428-9d47-46eb-aa7b-b0cbd485f2ce",
      "metadata": {},
      "source": [
       "# 車の検出とバウンディングボックスの配置\n",
       "\n",
       "このノートブックでは、Yoloモデルによって検出された車の周りにボックスを描く方法を学びます。\n",
       "\n",
       "まず、YOLOパッケージをインポートします。"
      ]
     },
     {
      "cell_type": "code",
      "execution_count": null,
      "id": "03c4c9cc-1e3a-43a4-92cf-44af26573030",
      "metadata": {
       "tags": []
      },
      "outputs": [],
      "source": [
       "# このLab用に設計されたWorkbenchイメージを使用していない場合は、以下の行をアンコメントして必要なパッケージをインストールしてください。\n",
       "# !pip install --no-cache-dir --no-dependencies -r requirements.txt\n",
       "\n",
       "from ultralytics import YOLO\n",
       "from PIL import Image"
      ]
     },
     {
      "cell_type": "code",
      "execution_count": null,
      "id": "0aa262cd-c629-45a5-a718-de61a585b710",
      "metadata": {
       "tags": []
      },
      "outputs": [],
      "source": [
       "# オブジェクト検出用にYOLOv8mモデルを使用します\n",
       "\n",
       "model = YOLO(\"yolov8m.pt\")"
      ]
     },
     {
      "cell_type": "code",
      "execution_count": null,
      "id": "576ca31b-b8f1-45a9-ae12-2f5420e5fbbe",
      "metadata": {
       "tags": []
      },
      "outputs": [],
      "source": [
       "# テスト画像に対するモデル予測結果を取得します\n",
       "\n",
       "img = \"images/carImage0.jpg\"\n",
       "results = model.predict(img)"
      ]
     },
     {
      "cell_type": "code",
      "execution_count": null,
      "id": "f7516db3-b51c-4699-b63b-4c1d9c307a73",
      "metadata": {
       "tags": []
      },
      "outputs": [],
      "source": [
       "# YOLOでは1枚の画像だけでなく、画像の配列を提出することができ、結果の配列を得ることができます。\n",
       "# 今回は1枚の画像だけを提出したため、結果の配列から最初の（唯一の）要素を取得する必要があります。\n",
       "\n",
       "result = results[0]"
      ]
     },
     {
      "cell_type": "code",
      "execution_count": null,
      "id": "720e6638-cced-440c-afb1-6270b74f3bb6",
      "metadata": {
       "tags": []
      },
      "outputs": [],
      "source": [
       "# 検出されたボックスの数を確認します\n",
       "\n",
       "len(result.boxes)"
      ]
     },
     {
      "cell_type": "code",
      "execution_count": null,
      "id": "243d234e-8c90-4c0e-a78d-d304faabee71",
      "metadata": {
       "tags": []
      },
      "outputs": [],
      "source": [
       "# ボックスの詳細を解析します\n",
       "\n",
       "box = result.boxes[0]\n",
       "print(\"オブジェクトの種類:\", box.cls)\n",
       "print(\"座標:\", box.xyxy)\n",
       "print(\"確率:\", box.conf)"
      ]
     },
     {
      "cell_type": "code",
      "execution_count": null,
      "id": "6922f2d3-0849-4567-9c5d-2232b19eeae4",
      "metadata": {
       "tags": []
      },
      "outputs": [],
      "source": [
       "# Tensorから実際の値を取り出します\n",
       "\n",
       "cords = box.xyxy[0].tolist()\n",
       "class_id = box.cls[0].item()\n",
       "conf = box.conf[0].item()\n",
       "print(\"オブジェクトの種類:\", class_id)\n",
       "print(\"座標:\", cords)\n",
       "print(\"確率:\", conf)"
      ]
     },
     {
      "cell_type": "code",
      "execution_count": null,
      "id": "9bfe8462-eec5-4769-ba8a-cf0fec8dfea2",
      "metadata": {
       "tags": []
      },
      "outputs": [],
      "source": [
       "# COCOはYOLOモデルがトレーニングされたデータセットです。検出するオブジェクトはクラスで整理されています。これが「オブジェクトの種類」フィールドで得られた情報です。\n",
       "# YOLOv8の結果オブジェクトには、これらのクラス名の'名前'プロパティも含まれています。\n",
       "\n",
       "print(result.names)"
      ]
     },
     {
      "cell_type": "markdown",
      "id": "cb88c825-0144-49e7-9434-02ffdc2212c6",
      "metadata": {},
      "source": [
       "\n",
       "クラス番号「2」は「車」オブジェクトに対応しています。つまり、結果のバウンディングボックスは検出された「車」に対応しています。\n",
       "それでは、画像にボックスを描きましょう！\n"
      ]
     },
     {
      "cell_type": "code",
      "execution_count": null,
      "id": "f5c4d962-1f36-40ac-b399-e819023a4a05",
      "metadata": {
       "tags": []
      },
      "outputs": [],
      "source": [
       "# まず、座標をリストに入れ、四捨五入します。\n",
       "# 次に、result.names辞書を使用して検出されたオブジェクトクラスの名前をIDで取得します。\n",
       "\n",
       "cords = box.xyxy[0].tolist()\n",
       "cords = [round(x) for x in cords]\n",
       "class_id = result.names[box.cls[0].item()]\n",
       "conf = round(box.conf[0].item(), 2)\n",
       "print(\"オブジェクトの種類:\", class_id)\n",
       "print(\"座標:\", cords)\n",
       "print(\"確率:\", conf)"
      ]
     },
     {
      "cell_type": "code",
      "execution_count": null,
      "id": "76cc667b-779d-4bbd-a2d4-3fb8b7c4ff22",
      "metadata": {
       "tags": []
      },
      "outputs": [],
      "source": [
       "# ボックス全体をループして情報を抽出しましょう。\n",
       "\n",
       "for box in result.boxes:\n",
       "  class_id = result.names[box.cls[0].item()]\n",
       "  cords = box.xyxy[0].tolist()\n",
       "  cords = [round(x) for x in cords]\n",
       "  conf = round(box.conf[0].item(), 2)\n",
       "  print(\"オブジェクトの種類:\", class_id)\n",
       "  print(\"座標:\", cords)\n",
       "  print(\"確率:\", conf)\n",
       "  print(\"---\")"
      ]
     },
     {
      "cell_type": "code",
      "execution_count": null,
      "id": "79374798-8dc6-4235-9d4e-dc1c0e397bf5",
      "metadata": {
       "tags": []
      },
      "outputs": [],
      "source": [
       "# 画像にボックスを描き、クラス名と確率（モデルが検出にどれほど自信があるか）を表示します。\n",
       "\n",
       "Image.fromarray(result.plot()[:,:,::-1])"
      ]
     },
     {
      "cell_type": "markdown",
      "id": "7b83cb59-33b2-42dc-b001-b7e1af41d064",
      "metadata": {},
      "source": [
       "それでは、前のノートブックでテストした複数の車が写っている画像（carImage4.jpg）に戻り、YOLOが画像内のすべての「車」を識別できるか確認しましょう。"
      ]
     },
     {
      "cell_type": "code",
      "execution_count": null,
      "id": "b946358d-727a-4d08-9f9b-5c7cd9ee9c29",
      "metadata": {
       "tags": []
      },
      "outputs": [],
      "source": [
       "# これは前のセルで使用したのと同じコードですが、1回で実行します\n",
       "\n",
       "results = model.predict(\"images/carImage4.jpg\")\n",
       "\n",
       "result = results[0]\n",
       "\n",
       "for box in result.boxes:\n",
       "  class_id = result.names[box.cls[0].item()]\n",
       "  cords = box.xyxy[0].tolist()\n",
       "  cords = [round(x) for x in cords]\n",
       "  conf = round(box.conf[0].item(), 2)\n",
       "  print(\"オブジェクトの種類:\", class_id)\n",
       "  print(\"座標:\", cords)\n",
       "  print(\"確率:\", conf)\n",
       "  print(\"---\")\n",
       "\n",
       "Image.fromarray(result.plot()[:,:,::-1])"
      ]
     },
     {
      "cell_type": "markdown",
      "id": "e285a42c-1763-427b-9806-943bf94aa219",
      "metadata": {},
      "source": [
       "YOLOモデルは画像の「遠くにある」車を見逃してしまったことがわかります。しかし全体として、モデルはこの画像内の複数の車を特定するのに素晴らしい仕事をしました。そして、重要なことに、特定された車は「バウンディングボックス」に囲まれています！\n",
       "\n",
       "YOLOモデルによって認識された車の周りにバウンディングボックスを配置できるようになったので、車の「衝突」を特定するためにYOLOモデルを再トレーニングできます。\n",
       "\n",
       "**ノートブック `04-03-model-retraining.ipynb` を開いてください。**"
      ]
     }
    ],
    "metadata": {
     "kernelspec": {
      "display_name": "Python 3.11",
      "language": "python",
      "name": "python3"
     },
     "language_info": {
      "codemirror_mode": {
       "name": "ipython",
       "version": 3
      },
      "file_extension": ".py",
      "mimetype": "text/x-python",
      "name": "python",
      "nbconvert_exporter": "python",
      "pygments_lexer": "ipython3",
      "version": "3.11.5"
     }
    },
    "nbformat": 4,
    "nbformat_minor": 5
   }
   