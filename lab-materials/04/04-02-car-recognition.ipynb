{
 "cells": [
  {
   "cell_type": "markdown",
   "id": "917ad428-9d47-46eb-aa7b-b0cbd485f2ce",
   "metadata": {},
   "source": [
    "# 車を検出し、その周りに境界ボックスを配置する\n",
    "\n",
    "このノートブックでは、YOLOモデルによって検出された車の周りに境界ボックスを描画する方法を学びます。\n",
    "\n",
    "まず、YOLOパッケージをインポートします。"
   ]
  },
  {
   "cell_type": "code",
   "execution_count": null,
   "id": "03c4c9cc-1e3a-43a4-92cf-44af26573030",
   "metadata": {
    "tags": []
   },
   "outputs": [],
   "source": [
    "# もしこのLabのために設計されたWorkbenchイメージを使用していない場合、必要なパッケージをインストールするために次の行のコメントを外して実行できます。\n",
    "# !pip install --no-cache-dir --no-dependencies -r requirements.txt\n",
    "\n",
    "from ultralytics import YOLO\n",
    "from PIL import Image"
   ]
  },
  {
   "cell_type": "code",
   "execution_count": null,
   "id": "0aa262cd-c629-45a5-a718-de61a585b710",
   "metadata": {
    "tags": []
   },
   "outputs": [],
   "source": [
    "# 物体検出にYOLOv8mモデルを利用します。\n",
    "\n",
    "model = YOLO(\"yolov8m.pt\")"
   ]
  },
  {
   "cell_type": "code",
   "execution_count": null,
   "id": "576ca31b-b8f1-45a9-ae12-2f5420e5fbbe",
   "metadata": {
    "tags": []
   },
   "outputs": [],
   "source": [
    "# テスト画像に対する予測結果を表示します。\n",
    "\n",
    "img = \"images/carImage0.jpg\"\n",
    "results = model.predict(img)"
   ]
  },
  {
   "cell_type": "code",
   "execution_count": null,
   "id": "f7516db3-b51c-4699-b63b-4c1d9c307a73",
   "metadata": {
    "tags": []
   },
   "outputs": [],
   "source": [
    "# YOLOでは1つの画像だけでなく、画像の配列を送信することができ、結果の配列を取得できます。\n",
    "# 今回は1つの画像のみを送信したため、結果の配列から最初（そして唯一）の要素を取得する必要があります。\n",
    "\n",
    "result = results[0]"
   ]
  },
  {
   "cell_type": "code",
   "execution_count": null,
   "id": "720e6638-cced-440c-afb1-6270b74f3bb6",
   "metadata": {
    "tags": []
   },
   "outputs": [],
   "source": [
    "# 検出されたボックスの数を確認します。\n",
    "\n",
    "len(result.boxes)"
   ]
  },
  {
   "cell_type": "code",
   "execution_count": null,
   "id": "243d234e-8c90-4c0e-a78d-d304faabee71",
   "metadata": {
    "tags": []
   },
   "outputs": [],
   "source": [
    "# ボックスを分析します。\n",
    "\n",
    "box = result.boxes[0]\n",
    "print(\"オブジェクトの種類:\", box.cls)\n",
    "print(\"座標:\", box.xyxy)\n",
    "print(\"確率:\", box.conf)"
   ]
  },
  {
   "cell_type": "code",
   "execution_count": null,
   "id": "6922f2d3-0849-4567-9c5d-2232b19eeae4",
   "metadata": {
    "tags": []
   },
   "outputs": [],
   "source": [
    "# テンソルから実際の値を展開します。\n",
    "\n",
    "cords = box.xyxy[0].tolist()\n",
    "class_id = box.cls[0].item()\n",
    "conf = box.conf[0].item()\n",
    "print(\"オブジェクトの種類:\", class_id)\n",
    "print(\"座標:\", cords)\n",
    "print(\"確率:\", conf)"
   ]
  },
  {
   "cell_type": "code",
   "execution_count": null,
   "id": "9bfe8462-eec5-4769-ba8a-cf0fec8dfea2",
   "metadata": {
    "tags": []
   },
   "outputs": [],
   "source": [
    "# YOLOモデルが訓練されたデータセットであるCOCOには、検出するオブジェクトがクラスごとに整理されています。これは「Object type」フィールドで得られる情報です。\n",
    "# YOLOv8の結果オブジェクトには、これらのクラスのための「names」プロパティも含まれています。\n",
    "\n",
    "print(result.names)"
   ]
  },
  {
   "cell_type": "markdown",
   "id": "cb88c825-0144-49e7-9434-02ffdc2212c6",
   "metadata": {},
   "source": [
    "クラス番号 '2' が 'car' オブジェクトに対応していることがわかります。したがって、結果の境界ボックスは検出された「車」に対応しています。\n",
    "それでは、画像にボックスを描画しましょう。\n"
   ]
  },
  {
   "cell_type": "code",
   "execution_count": null,
   "id": "f5c4d962-1f36-40ac-b399-e819023a4a05",
   "metadata": {
    "tags": []
   },
   "outputs": [],
   "source": [
    "# 最初に、座標をリストに入れて丸めます。\n",
    "# 次に、result.names ディクショナリを使用して、検出されたオブジェクトのクラス名をIDから取得します。\n",
    "\n",
    "cords = box.xyxy[0].tolist()\n",
    "cords = [round(x) for x in cords]\n",
    "class_id = result.names[box.cls[0].item()]\n",
    "conf = round(box.conf[0].item(), 2)\n",
    "print(\"オブジェクトの種類:\", class_id)\n",
    "print(\"座標:\", cords)\n",
    "print(\"確率:\", conf)"
   ]
  },
  {
   "cell_type": "code",
   "execution_count": null,
   "id": "76cc667b-779d-4bbd-a2d4-3fb8b7c4ff22",
   "metadata": {
    "tags": []
   },
   "outputs": [],
   "source": [
    "# すべてのボックスをループして情報を抽出しましょう。\n",
    "\n",
    "for box in result.boxes:\n",
    "  class_id = result.names[box.cls[0].item()]\n",
    "  cords = box.xyxy[0].tolist()\n",
    "  cords = [round(x) for x in cords]\n",
    "  conf = round(box.conf[0].item(), 2)\n",
    "  print(\"オブジェクトの種類:\", class_id)\n",
    "  print(\"座標:\", cords)\n",
    "  print(\"確率:\", conf)\n",
    "  print(\"---\")"
   ]
  },
  {
   "cell_type": "code",
   "execution_count": null,
   "id": "79374798-8dc6-4235-9d4e-dc1c0e397bf5",
   "metadata": {
    "tags": []
   },
   "outputs": [],
   "source": [
    "# 画像上に、ボックス、クラス名、および確率（モデルが検出についてどれだけ確信しているか）を描画します。\n",
    "\n",
    "Image.fromarray(result.plot()[:,:,::-1])"
   ]
  },
  {
   "cell_type": "markdown",
   "id": "7b83cb59-33b2-42dc-b001-b7e1af41d064",
   "metadata": {},
   "source": [
    "前回のノートブックでテストした複数の車両が含まれる画像（carImage4.jpg）に戻り、YOLOが画像内のすべての「車」を正しく識別できるかを確認しましょう。"
   ]
  },
  {
   "cell_type": "code",
   "execution_count": null,
   "id": "b946358d-727a-4d08-9f9b-5c7cd9ee9c29",
   "metadata": {
    "tags": []
   },
   "outputs": [],
   "source": [
    "# 前のセルで使用したコードと同じですが、1つのセルで実行します。\n",
    "\n",
    "results = model.predict(\"images/carImage4.jpg\")\n",
    "\n",
    "result = results[0]\n",
    "\n",
    "for box in result.boxes:\n",
    "  class_id = result.names[box.cls[0].item()]\n",
    "  cords = box.xyxy[0].tolist()\n",
    "  cords = [round(x) for x in cords]\n",
    "  conf = round(box.conf[0].item(), 2)\n",
    "  print(\"Object type:\", class_id)\n",
    "  print(\"Coordinates:\", cords)\n",
    "  print(\"Probability:\", conf)\n",
    "  print(\"---\")\n",
    "\n",
    "Image.fromarray(result.plot()[:,:,::-1])"
   ]
  },
  {
   "cell_type": "markdown",
   "id": "e285a42c-1763-427b-9806-943bf94aa219",
   "metadata": {},
   "source": [
    "YOLOモデルは画像の「奥にある」いくつかの車を見逃していることがわかります。しかし全体として、このモデルはこの画像内の複数の車を正しく識別することができました。さらに重要なことは、識別された車両が「境界ボックス」で囲まれていることがわかるという点です！\n",
    "\n",
    "これで、YOLOモデルが認識した車に境界ボックスを配置できるようになったので、モデルを再トレーニングして車の「衝突」を識別できるようにすることができます。"
   ]
  }
 ],
 "metadata": {
  "kernelspec": {
   "display_name": "Python 3.11",
   "language": "python",
   "name": "python3"
  },
  "language_info": {
   "codemirror_mode": {
    "name": "ipython",
    "version": 3
   },
   "file_extension": ".py",
   "mimetype": "text/x-python",
   "name": "python",
   "nbconvert_exporter": "python",
   "pygments_lexer": "ipython3",
   "version": "3.11.5"
  }
 },
 "nbformat": 4,
 "nbformat_minor": 5
}
